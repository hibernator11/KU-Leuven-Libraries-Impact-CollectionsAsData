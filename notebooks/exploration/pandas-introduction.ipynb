{
 "cells": [
  {
   "cell_type": "markdown",
   "id": "1b9e0fe9-bb5d-44d2-aad2-4d01acc3d00d",
   "metadata": {},
   "source": [
    "# Introduction to pandas\n",
    "\n",
    "Pandas is an open-source Python library used for working with data sets.\n",
    "\n",
    "It’s particularly well-suited for handling structured data, e.g., CSV files.\n",
    "\n",
    "When working with pandas, the data is loaded in a DataFrame, which is a way to represent and work with tabular data."
   ]
  },
  {
   "cell_type": "markdown",
   "id": "a985a39c-e7e7-4a10-be63-6a4e2bae5069",
   "metadata": {},
   "source": [
    "### The first thing that we need to do is importing the Python packages"
   ]
  },
  {
   "cell_type": "code",
   "execution_count": 27,
   "id": "2e51e378-eb68-47cd-84d1-b8c95fdc3835",
   "metadata": {},
   "outputs": [],
   "source": [
    "import pandas as pd\n",
    "import matplotlib.pyplot as plt"
   ]
  },
  {
   "cell_type": "markdown",
   "id": "f63634cb-a383-4788-bc12-e42205d30cff",
   "metadata": {},
   "source": [
    "### Creating a DataFrame from a dictionary.\n",
    "\n",
    "A Python dictionary is a data structure that stores items in key-value pairs. We can use Python dictionaries to create a DataFrame.\n",
    "\n",
    "We need to use the function pd.DataFrame(data) to load the dictionary into a DataFrame in pandas."
   ]
  },
  {
   "cell_type": "code",
   "execution_count": 11,
   "id": "3e4dd50a-c90f-4d8e-967d-d21412654cf7",
   "metadata": {},
   "outputs": [
    {
     "name": "stdout",
     "output_type": "stream",
     "text": [
      "       Name  Age      City\n",
      "0   Gustavo   25  Alicante\n",
      "1      Nele   30    Leuven\n",
      "2     Sally   35    London\n",
      "3  Mahendra   40   Tallinn\n",
      "4       Kat   35    Aarhus\n"
     ]
    }
   ],
   "source": [
    "data = {\n",
    "    'Name': ['Gustavo', 'Nele', 'Sally', 'Mahendra', 'Kat'],\n",
    "    'Age': [25, 30, 35, 40, 35],\n",
    "    'City': ['Alicante', 'Leuven', 'London', 'Tallinn', 'Aarhus']\n",
    "}\n",
    "\n",
    "df = pd.DataFrame(data)\n",
    "print(df)"
   ]
  },
  {
   "cell_type": "markdown",
   "id": "5259b75f-dc3e-4d1e-b098-d6479e7eb0f7",
   "metadata": {},
   "source": [
    "### Data Importing and Exporting\n",
    "\n",
    "Pandas supports various data formats for importing and exporting, such as CSV, but also Excel, JSON and SQL databases.\n",
    "\n",
    "We can use the read_csv and to_csv functions to import and export data. For more info on importing/exporting please check the following [link](https://pandas.pydata.org/docs/user_guide/io.html)"
   ]
  },
  {
   "cell_type": "code",
   "execution_count": 12,
   "id": "dff1d9a9-942a-41f3-8600-013541c053ef",
   "metadata": {},
   "outputs": [],
   "source": [
    "# Storing to a csv file, index=False is used to avoid the inclusion of an additional column with the number of the row\n",
    "df.to_csv('example.csv', index=False)"
   ]
  },
  {
   "cell_type": "markdown",
   "id": "4e63af4b-8bfd-4ac6-b083-e39f3714998e",
   "metadata": {},
   "source": [
    "### Viewing data\n",
    "\n",
    "We can use the functions head() and tail() to retrieve the first or last rows in the dataframe."
   ]
  },
  {
   "cell_type": "code",
   "execution_count": 13,
   "id": "596d7ca5-4135-43f8-a83a-9dbbd7645bc5",
   "metadata": {},
   "outputs": [
    {
     "name": "stdout",
     "output_type": "stream",
     "text": [
      "      Name  Age      City\n",
      "0  Gustavo   25  Alicante\n",
      "1     Nele   30    Leuven\n"
     ]
    }
   ],
   "source": [
    "print(df.head(2))  # First two rows"
   ]
  },
  {
   "cell_type": "code",
   "execution_count": 14,
   "id": "a17ff761-a634-45a3-95dd-6b4999482a6a",
   "metadata": {},
   "outputs": [
    {
     "name": "stdout",
     "output_type": "stream",
     "text": [
      "       Name  Age     City\n",
      "2     Sally   35   London\n",
      "3  Mahendra   40  Tallinn\n",
      "4       Kat   35   Aarhus\n"
     ]
    }
   ],
   "source": [
    "print(df.tail(3))  # Last three rows"
   ]
  },
  {
   "cell_type": "markdown",
   "id": "b69b69b3-254f-49f0-93ac-e081a913aadf",
   "metadata": {},
   "source": [
    "### Selecting a column\n",
    "\n",
    "We can access all the values of a column using brackets and the name of the column"
   ]
  },
  {
   "cell_type": "code",
   "execution_count": 16,
   "id": "ec1d624f-f46a-42fb-aeb2-fa0702175bf0",
   "metadata": {},
   "outputs": [
    {
     "name": "stdout",
     "output_type": "stream",
     "text": [
      "0     Gustavo\n",
      "1        Nele\n",
      "2       Sally\n",
      "3    Mahendra\n",
      "4         Kat\n",
      "Name: Name, dtype: object\n",
      "0    25\n",
      "1    30\n",
      "2    35\n",
      "3    40\n",
      "4    35\n",
      "Name: Age, dtype: int64\n"
     ]
    }
   ],
   "source": [
    "# To access a column in the DataFrame.\n",
    "names = df['Name']\n",
    "print(names)\n",
    "print(df['Age'])  # Displays the 'Age' column"
   ]
  },
  {
   "cell_type": "markdown",
   "id": "fbd0e171-26a8-41be-ae49-e43aa4ac7e6e",
   "metadata": {},
   "source": [
    "### Filtering Data\n",
    "\n",
    "Selecting rows based on a condition."
   ]
  },
  {
   "cell_type": "code",
   "execution_count": 17,
   "id": "f89b4939-aab8-4c94-89c4-0140cd115030",
   "metadata": {},
   "outputs": [
    {
     "name": "stdout",
     "output_type": "stream",
     "text": [
      "       Name  Age     City\n",
      "2     Sally   35   London\n",
      "3  Mahendra   40  Tallinn\n",
      "4       Kat   35   Aarhus\n"
     ]
    }
   ],
   "source": [
    "filtered_df = df[df['Age'] > 30]  # Rows where age is greater than 30\n",
    "print(filtered_df)"
   ]
  },
  {
   "cell_type": "markdown",
   "id": "d13bbfa5-7ca5-4025-a250-816e0bc52c03",
   "metadata": {},
   "source": [
    "### Adding new columns\n",
    "\n",
    "We can add new columns to a DataFrame."
   ]
  },
  {
   "cell_type": "code",
   "execution_count": 18,
   "id": "6be35c6a-aec9-4008-970b-0619b5740877",
   "metadata": {},
   "outputs": [
    {
     "name": "stdout",
     "output_type": "stream",
     "text": [
      "       Name  Age      City  AgeInFiveYears\n",
      "0   Gustavo   25  Alicante              30\n",
      "1      Nele   30    Leuven              35\n",
      "2     Sally   35    London              40\n",
      "3  Mahendra   40   Tallinn              45\n",
      "4       Kat   35    Aarhus              40\n"
     ]
    }
   ],
   "source": [
    "df['AgeInFiveYears'] = df['Age'] + 5\n",
    "print(df)"
   ]
  },
  {
   "cell_type": "markdown",
   "id": "d06875c5-ee18-4695-b954-828c0e1a3914",
   "metadata": {},
   "source": [
    "### Handling Missing Data"
   ]
  },
  {
   "cell_type": "code",
   "execution_count": 19,
   "id": "bdbfc8b9-2482-427b-ad4e-71c25c88d582",
   "metadata": {},
   "outputs": [],
   "source": [
    "df.fillna(0, inplace=True)  # Replace missing values with 0"
   ]
  },
  {
   "cell_type": "markdown",
   "id": "cc2853b0-e3a4-4dfb-8c57-b6a63e2c1986",
   "metadata": {},
   "source": [
    "### Renaming Columns"
   ]
  },
  {
   "cell_type": "code",
   "execution_count": 21,
   "id": "cf8a8c1a-966b-4667-833e-0287bc7a9dc9",
   "metadata": {},
   "outputs": [
    {
     "name": "stdout",
     "output_type": "stream",
     "text": [
      "       Name  Age PlaceOfBirth  AgeInFiveYears\n",
      "0   Gustavo   25     Alicante              30\n",
      "1      Nele   30       Leuven              35\n",
      "2     Sally   35       London              40\n",
      "3  Mahendra   40      Tallinn              45\n",
      "4       Kat   35       Aarhus              40\n"
     ]
    }
   ],
   "source": [
    "df.rename(columns={'City': 'PlaceOfBirth'}, inplace=True)\n",
    "print(df)"
   ]
  },
  {
   "cell_type": "markdown",
   "id": "de5daece-04ca-4d5f-a56d-b276983c0e32",
   "metadata": {},
   "source": [
    "### Descriptive Statistics\n",
    "\n",
    "There are different functions to obtain descriptive statistics"
   ]
  },
  {
   "cell_type": "code",
   "execution_count": 23,
   "id": "53d9986d-1261-48c0-aa1f-4aa0028cf5d6",
   "metadata": {},
   "outputs": [
    {
     "name": "stdout",
     "output_type": "stream",
     "text": [
      "             Age  AgeInFiveYears\n",
      "count   5.000000        5.000000\n",
      "mean   33.000000       38.000000\n",
      "std     5.700877        5.700877\n",
      "min    25.000000       30.000000\n",
      "25%    30.000000       35.000000\n",
      "50%    35.000000       40.000000\n",
      "75%    35.000000       40.000000\n",
      "max    40.000000       45.000000\n"
     ]
    }
   ],
   "source": [
    "# Quickly get a statistical summary of the data.\n",
    "print(df.describe())"
   ]
  },
  {
   "cell_type": "code",
   "execution_count": 24,
   "id": "f3c0cfc4-789f-452e-aedd-07c596ba1d73",
   "metadata": {},
   "outputs": [
    {
     "name": "stdout",
     "output_type": "stream",
     "text": [
      "33.0\n"
     ]
    }
   ],
   "source": [
    "print(df['Age'].mean())  # Average age"
   ]
  },
  {
   "cell_type": "markdown",
   "id": "23a9583b-e99d-41f0-a7b2-df269555152e",
   "metadata": {},
   "source": [
    "### Iterate over rows\n",
    "\n",
    "Sometimes, we may need to iterate over rows to retrieve the data"
   ]
  },
  {
   "cell_type": "code",
   "execution_count": 30,
   "id": "fbbf70bf-4846-4c8b-8b5b-6599f36bcfdd",
   "metadata": {},
   "outputs": [
    {
     "name": "stdout",
     "output_type": "stream",
     "text": [
      "Gustavo 25\n",
      "Nele 30\n",
      "Sally 35\n",
      "Mahendra 40\n",
      "Kat 35\n"
     ]
    }
   ],
   "source": [
    "for index, row in df.iterrows():\n",
    "    print(row['Name'], row['Age'])"
   ]
  },
  {
   "cell_type": "markdown",
   "id": "33736080-9afc-4959-888c-2f674232e85c",
   "metadata": {},
   "source": [
    "### Basic data visualisation"
   ]
  },
  {
   "cell_type": "code",
   "execution_count": 28,
   "id": "c466f539-338f-4b4d-b6f4-2bfee9808b86",
   "metadata": {},
   "outputs": [
    {
     "data": {
      "text/plain": [
       "<Axes: >"
      ]
     },
     "execution_count": 28,
     "metadata": {},
     "output_type": "execute_result"
    },
    {
     "data": {
      "image/png": "[encoded data removed]",
      "text/plain": [
       "<Figure size 640x480 with 1 Axes>"
      ]
     },
     "metadata": {},
     "output_type": "display_data"
    }
   ],
   "source": [
    "df.plot(kind='line')"
   ]
  },
  {
   "cell_type": "code",
   "execution_count": 29,
   "id": "98ef8503-8b4a-47dd-9e10-d5150f25c6de",
   "metadata": {},
   "outputs": [
    {
     "data": {
      "text/plain": [
       "<Axes: >"
      ]
     },
     "execution_count": 29,
     "metadata": {},
     "output_type": "execute_result"
    },
    {
     "data": {
      "image/png": "[encoded data removed]",
      "text/plain": [
       "<Figure size 640x480 with 1 Axes>"
      ]
     },
     "metadata": {},
     "output_type": "display_data"
    }
   ],
   "source": [
    "df['Age'].plot(kind='bar')"
   ]
  },
  {
   "cell_type": "markdown",
   "id": "c0a6ced7-719c-4d87-8f5a-120357beebfe",
   "metadata": {},
   "source": [
    "### References\n",
    "\n",
    "- https://pandas.pydata.org/\n",
    "- https://www.w3schools.com/python/pandas/pandas_intro.asp"
   ]
  }
 ],
 "metadata": {
  "kernelspec": {
   "display_name": "Python 3 (ipykernel)",
   "language": "python",
   "name": "python3"
  },
  "language_info": {
   "codemirror_mode": {
    "name": "ipython",
    "version": 3
   },
   "file_extension": ".py",
   "mimetype": "text/x-python",
   "name": "python",
   "nbconvert_exporter": "python",
   "pygments_lexer": "ipython3",
   "version": "3.11.11"
  }
 },
 "nbformat": 4,
 "nbformat_minor": 5
}

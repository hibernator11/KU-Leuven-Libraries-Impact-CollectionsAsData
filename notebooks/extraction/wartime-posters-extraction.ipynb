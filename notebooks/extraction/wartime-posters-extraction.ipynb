{
 "cells": [
  {
   "cell_type": "markdown",
   "id": "8902ec87-cf2d-4545-a6da-af48dded94ab",
   "metadata": {},
   "source": [
    "# Wartime posters\n",
    "\n",
    "The digital collection [Wartime posters](https://kuleuven.limo.libis.be/discovery/collectionDiscovery?vid=32KUL_KUL:KULeuven&collectionId=81411182030001488&lang=en) includes proclamations issued by the German General Government in Belgium during the World War I. It is published and maintained by [KU Leuven Libraries](https://bib.kuleuven.be/english).\n",
    "\n",
    "This notebook is the result of the collaboration between KU Leuven and the [University of Alicante](https://www.ua.es/), as part of the [Impact Centre of Competence in digitisation](https://www.digitisation.eu/)."
   ]
  },
  {
   "cell_type": "markdown",
   "id": "73ebe98b-faae-4557-bb04-465421b88d48",
   "metadata": {},
   "source": [
    "### Introduction\n",
    "In this example we are going to try to download all the posters provided by the datasets using the URLs included in the CSV file."
   ]
  },
  {
   "cell_type": "markdown",
   "id": "afdada1f-d71b-4fca-bbf6-c2e7c406a1bb",
   "metadata": {},
   "source": [
    "### Getting started\n",
    "\n",
    "The first thing that we need to do is importing all the libraries (Python packages) that we will need to analyse the data. Note that we are using as data a CSV file, consisting of rows and columns. In order to work with CSV files, [pandas](https://pandas.pydata.org/) is a popular Python package that or is used for working with data sets. It has functions for analyzing, cleaning, exploring, and manipulating data."
   ]
  },
  {
   "cell_type": "code",
   "execution_count": 38,
   "id": "62d52248-8b77-4709-bdb7-0c7286b54f6f",
   "metadata": {},
   "outputs": [],
   "source": [
    "import pandas as pd\n",
    "import requests"
   ]
  },
  {
   "cell_type": "markdown",
   "id": "4ea2a6a7-5c5a-4260-970e-fe20e0197ab7",
   "metadata": {},
   "source": [
    "#### Once we have imported the Python packages we can read the content and start the analysis.\n",
    "\n",
    "We use the function read_csv and the path of our CSV file. The result is a Dataframe containing the data in the form of rows and columns. \n",
    "**Please update the path of the csv file**\n",
    "\n",
    "The first row in the original CSV file contains MARC codes, so we will skip it using the following parameter skiprows=[1]"
   ]
  },
  {
   "cell_type": "code",
   "execution_count": 39,
   "id": "3e004fb3-f861-4fea-b8bc-a4593c201190",
   "metadata": {},
   "outputs": [],
   "source": [
    "# Read the CSV file\n",
    "postcards_data = pd.read_csv(\"../../../20250506_CaD_jnbworkshop/Metadata-exports/Wartime_posters/20230301_Wartime_posters.csv\", skiprows=[1])"
   ]
  },
  {
   "cell_type": "markdown",
   "id": "f9c47e8e-760b-442b-85e9-526845bf7fa2",
   "metadata": {},
   "source": [
    "#### We can print the dataframe"
   ]
  },
  {
   "cell_type": "code",
   "execution_count": 40,
   "id": "9aafca0f-0678-458f-8f8e-3333d1c2c69d",
   "metadata": {},
   "outputs": [
    {
     "name": "stdout",
     "output_type": "stream",
     "text": [
      "               MMS ID         Language  \\\n",
      "0    9992133510701488  dut ; fre ; ger   \n",
      "1    9992133511201488  dut ; fre ; ger   \n",
      "2    9992133512001488  dut ; fre ; ger   \n",
      "3    9992133513201488  dut ; fre ; ger   \n",
      "4    9992133513301488  dut ; fre ; ger   \n",
      "..                ...              ...   \n",
      "166  9992136980201488              dut   \n",
      "167  9992137078901488              dut   \n",
      "168  9992137079301488              dut   \n",
      "169  9992137081401488              dut   \n",
      "170  9992137081601488              dut   \n",
      "\n",
      "                                            Main title  \\\n",
      "0    Brussel. 13.06.1915. Mededeelingen van het Dui...   \n",
      "1    Brussel. 12.06.1915. Mededeelingen [02] van he...   \n",
      "2    Brussel. 11.06.1915. Mededeelingen [02] van he...   \n",
      "3    Brussel. 11.06.1915. Mededeelingen [01] van he...   \n",
      "4    Brussel. 04.06.1915. Mededeelingen van het Dui...   \n",
      "..                                                 ...   \n",
      "166  E. H. O. 01.12.1916. Mob. Etappen-Kommandantuu...   \n",
      "167  Gent. 30.08.1916. Mobime Etappen-Kommandantur....   \n",
      "168  Gent. 05.03.1917. Mob. Etappenkommandantur Gen...   \n",
      "169  Gent. 28.01.1917. Mob. Etappen-Kommandantuur 2...   \n",
      "170  Gent. 14.12.1916. Mob. Etappen-Kommandantuur 2...   \n",
      "\n",
      "                                         Variant title  \\\n",
      "0    Bruxelles. 13.06.1915. Nouvelles publiées par ...   \n",
      "1    Bruxelles. 12.06.1915. Nouvelles publiées par ...   \n",
      "2    Bruxelles. 11.06.1915. Nouvelles publiées par ...   \n",
      "3    Bruxelles. 11.06.1915. Nouvelles publiées par ...   \n",
      "4    Bruxelles. 04.06.1915. Nouvelles publiées par ...   \n",
      "..                                                 ...   \n",
      "166                                                NaN   \n",
      "167                                                NaN   \n",
      "168                                                NaN   \n",
      "169                                                NaN   \n",
      "170                                                NaN   \n",
      "\n",
      "      Place of publication/printing  \\\n",
      "0    [Plaats van druk niet vermeld]   \n",
      "1    [Plaats van druk niet vermeld]   \n",
      "2    [Plaats van druk niet vermeld]   \n",
      "3    [Plaats van druk niet vermeld]   \n",
      "4    [Plaats van druk niet vermeld]   \n",
      "..                              ...   \n",
      "166  [Plaats van druk niet vermeld]   \n",
      "167  [Plaats van druk niet vermeld]   \n",
      "168  [Plaats van druk niet vermeld]   \n",
      "169  [Plaats van druk niet vermeld]   \n",
      "170  [Plaats van druk niet vermeld]   \n",
      "\n",
      "                                 Publisher/printer  Date  Dimensions  \\\n",
      "0                           [Drukker niet vermeld]  1915  87 x 66 cm   \n",
      "1                           [Drukker niet vermeld]  1915  87 x 66 cm   \n",
      "2                           [Drukker niet vermeld]  1915  87 x 66 cm   \n",
      "3                           [Drukker niet vermeld]  1915  87 x 66 cm   \n",
      "4                           [Drukker niet vermeld]  1915  87 x 66 cm   \n",
      "..                                             ...   ...         ...   \n",
      "166  Drukk. Sint-Antonius, Jos. Dooreman-Volckaert  1916  28 x 37 cm   \n",
      "167    Drukk. St-Antonius, Jos. Dooreman-Volckaert  1916  73 x 55 cm   \n",
      "168    Drukk. St-Antonius, Jos. Dooreman-Volckaert  1917  62 x 43 cm   \n",
      "169  Drukk. Sint-Antonius, Jos. Dooreman-Volckaert  1917  48 x 34 cm   \n",
      "170  Drukk. Sint-Antonius, Jos. Dooreman-Volckaert  1916  27 x 37 cm   \n",
      "\n",
      "    Material type                                       Series title  ...  \\\n",
      "0          Poster                                                NaN  ...   \n",
      "1          Poster                                                NaN  ...   \n",
      "2          Poster                                                NaN  ...   \n",
      "3          Poster                                                NaN  ...   \n",
      "4          Poster                                                NaN  ...   \n",
      "..            ...                                                ...  ...   \n",
      "166        Poster  Verordeningen, bekendmakingen, e.d. uitgevaard...  ...   \n",
      "167        Poster  Verordeningen, bekendmakingen, e.d. uitgevaard...  ...   \n",
      "168        Poster  Verordeningen, bekendmakingen, e.d. uitgevaard...  ...   \n",
      "169        Poster  Verordeningen, bekendmakingen, e.d. uitgevaard...  ...   \n",
      "170        Poster  Verordeningen, bekendmakingen, e.d. uitgevaard...  ...   \n",
      "\n",
      "    Copyright status of digital object         Terms of use  \\\n",
      "0               available as open data  gebruiksvoorwaarden   \n",
      "1               available as open data  gebruiksvoorwaarden   \n",
      "2               available as open data  gebruiksvoorwaarden   \n",
      "3               available as open data  gebruiksvoorwaarden   \n",
      "4               available as open data  gebruiksvoorwaarden   \n",
      "..                                 ...                  ...   \n",
      "166             available as open data  gebruiksvoorwaarden   \n",
      "167             available as open data  gebruiksvoorwaarden   \n",
      "168             available as open data  gebruiksvoorwaarden   \n",
      "169             available as open data  gebruiksvoorwaarden   \n",
      "170             available as open data  gebruiksvoorwaarden   \n",
      "\n",
      "                                     Local group title Author (main entry)  \\\n",
      "0    KU Leuven. Centrale Bibliotheek. Affichecollec...                 NaN   \n",
      "1    KU Leuven. Centrale Bibliotheek. Affichecollec...                 NaN   \n",
      "2    KU Leuven. Centrale Bibliotheek. Affichecollec...                 NaN   \n",
      "3    KU Leuven. Centrale Bibliotheek. Affichecollec...                 NaN   \n",
      "4    KU Leuven. Centrale Bibliotheek. Affichecollec...                 NaN   \n",
      "..                                                 ...                 ...   \n",
      "166  KU Leuven. Centrale Bibliotheek. Affichecollec...                 NaN   \n",
      "167  KU Leuven. Centrale Bibliotheek. Affichecollec...                 NaN   \n",
      "168  KU Leuven. Centrale Bibliotheek. Affichecollec...                 NaN   \n",
      "169  KU Leuven. Centrale Bibliotheek. Affichecollec...                 NaN   \n",
      "170  KU Leuven. Centrale Bibliotheek. Affichecollec...                 NaN   \n",
      "\n",
      "       Author (added entry)  \\\n",
      "0                       NaN   \n",
      "1                       NaN   \n",
      "2                       NaN   \n",
      "3                       NaN   \n",
      "4                       NaN   \n",
      "..                      ...   \n",
      "166  Wettstein, Kurt signer   \n",
      "167  von Wick, Georg signer   \n",
      "168                     NaN   \n",
      "169                     NaN   \n",
      "170                     NaN   \n",
      "\n",
      "                                  Author (corporation) Language2  \\\n",
      "0    Kaiserliches Deutsches Generalgouvernement Bel...       dut   \n",
      "1    Kaiserliches Deutsches Generalgouvernement Bel...       dut   \n",
      "2    Kaiserliches Deutsches Generalgouvernement Bel...       dut   \n",
      "3    Kaiserliches Deutsches Generalgouvernement Bel...       dut   \n",
      "4    Kaiserliches Deutsches Generalgouvernement Bel...       dut   \n",
      "..                                                 ...       ...   \n",
      "166                                                NaN       dut   \n",
      "167                                                NaN       dut   \n",
      "168                                                NaN       dut   \n",
      "169                                                NaN       dut   \n",
      "170                                                NaN       dut   \n",
      "\n",
      "    Country of publication                                       Resolver URL  \\\n",
      "0                       xx  http://resolver.libis.be/IE4984904/representation   \n",
      "1                       xx  http://resolver.libis.be/IE4984899/representation   \n",
      "2                       xx  http://resolver.libis.be/IE4984880/representation   \n",
      "3                       xx  http://resolver.libis.be/IE4984875/representation   \n",
      "4                       xx  http://resolver.libis.be/IE4984870/representation   \n",
      "..                     ...                                                ...   \n",
      "166                     xx  http://resolver.libis.be/IE4985512/representation   \n",
      "167                     xx  http://resolver.libis.be/IE4985417/representation   \n",
      "168                     xx  http://resolver.libis.be/IE4985666/representation   \n",
      "169                     xx  http://resolver.libis.be/IE4985617/representation   \n",
      "170                     xx  http://resolver.libis.be/IE4985537/representation   \n",
      "\n",
      "                            Label (Library Call numer)  \n",
      "0          KU Leuven Libraries BIBC BRES Gm_1915_06_13  \n",
      "1      KU Leuven Libraries BIBC BRES Gm_1915_06_12 (2)  \n",
      "2      KU Leuven Libraries BIBC BRES Gm_1915_06_11 (2)  \n",
      "3      KU Leuven Libraries BIBC BRES Gm_1915_06_11 (1)  \n",
      "4          KU Leuven Libraries BIBC BRES Gm_1915_06_04  \n",
      "..                                                 ...  \n",
      "166        KU Leuven Libraries BIBC BRES Ev_1916_12_01  \n",
      "167  KU Leuven Libraries BIBC BRES Ev_1916_08_12/08...  \n",
      "168        KU Leuven Libraries BIBC BRES Ev_1917_03_05  \n",
      "169    KU Leuven Libraries BIBC BRES Ev_1917_01_28 (1)  \n",
      "170        KU Leuven Libraries BIBC BRES Ev_1916_12_14  \n",
      "\n",
      "[171 rows x 23 columns]\n"
     ]
    }
   ],
   "source": [
    "print(postcards_data)"
   ]
  },
  {
   "attachments": {},
   "cell_type": "markdown",
   "id": "f162a178-7d7d-4ce4-bea8-2767d6a050a0",
   "metadata": {},
   "source": [
    "#### We iterate over rows\n",
    "\n",
    "In order to download the posters as images, we need to use the Resolver URL column\n",
    "\n",
    "We may notice that the dataset provides URLS like http://resolver.libis.be/IE4984904/representation\n",
    "\n",
    "\n",
    "<img src=\"../../images/posters.png\" width=\"60%\">\n",
    "\n",
    "After clicking on the download button at the bottom we can download the image using URLS as follow:\n",
    "\n",
    "- https://lib.is/IE4984904/iiif/2/FL4984906/full/1000,1000/0/default.jpg\n",
    "- https://lib.is/IE4985627/iiif/2/FL4985629/full/1000,1000/0/default.jpg\n",
    "- https://lib.is/IE4984875/iiif/2/FL4984877/full/1000,1000/0/default.jpg"
   ]
  },
  {
   "cell_type": "code",
   "execution_count": 41,
   "id": "8b355d06-f42d-436b-b845-f3f5c8f6b0b2",
   "metadata": {},
   "outputs": [
    {
     "name": "stdout",
     "output_type": "stream",
     "text": [
      "Brussel. 13.06.1915. Mededeelingen van het Duitsche Generaal-Gouvernement [ondertekend door] Het Generaal-Gouvernement in België http://resolver.libis.be/IE4984904/representation\n",
      "IE4984904\n",
      "Brussel. 12.06.1915. Mededeelingen [02] van het Duitsche Generaal-Gouvernement [ondertekend door] Het Generaal-Gouvernement in België http://resolver.libis.be/IE4984899/representation\n",
      "IE4984899\n",
      "Brussel. 11.06.1915. Mededeelingen [02] van het Duitsche Generaal-Gouvernement [ondertekend door] Het Generaal-Gouvernement in België http://resolver.libis.be/IE4984880/representation\n",
      "IE4984880\n",
      "Brussel. 11.06.1915. Mededeelingen [01] van het Duitsche Generaal-Gouvernement [ondertekend door] Het Generaal-Gouvernement in België http://resolver.libis.be/IE4984875/representation\n",
      "IE4984875\n",
      "Brussel. 04.06.1915. Mededeelingen van het Duitsche Generaal-Gouvernement [ondertekend door] Het Generaal-Gouvernement in België http://resolver.libis.be/IE4984870/representation\n",
      "IE4984870\n"
     ]
    }
   ],
   "source": [
    "for index, row in postcards_data.iterrows():\n",
    "    print(row['Main title'], row['Resolver URL'])\n",
    "    print(row['Resolver URL'].split(\"/\")[3])\n",
    "    if index==4: # remove this part, this if for testing\n",
    "        break"
   ]
  },
  {
   "cell_type": "markdown",
   "id": "c5f3509a-48c9-44eb-aece-5ad26ce9e76c",
   "metadata": {},
   "source": [
    "### Let's create the URLs required to download the posters"
   ]
  },
  {
   "cell_type": "code",
   "execution_count": 42,
   "id": "76533f52-1dd0-4457-818a-8fc11918d510",
   "metadata": {},
   "outputs": [
    {
     "name": "stdout",
     "output_type": "stream",
     "text": [
      "4984904\n",
      "https://lib.is/IE4984904/iiif/2/FL4984906/full/1000,1000/0/default.jpg\n",
      "4984899\n",
      "https://lib.is/IE4984899/iiif/2/FL4984901/full/1000,1000/0/default.jpg\n",
      "4984880\n",
      "https://lib.is/IE4984880/iiif/2/FL4984882/full/1000,1000/0/default.jpg\n",
      "4984875\n",
      "https://lib.is/IE4984875/iiif/2/FL4984877/full/1000,1000/0/default.jpg\n",
      "4984870\n",
      "https://lib.is/IE4984870/iiif/2/FL4984872/full/1000,1000/0/default.jpg\n"
     ]
    }
   ],
   "source": [
    "for index, row in postcards_data.iterrows():\n",
    "    identifier = row['Resolver URL'].split(\"/\")[3]\n",
    "    print(identifier[2:]) # removing first two capital letters\n",
    "    # we need to add 2 to the id\n",
    "    new_id = int(identifier[2:])+2\n",
    "    url = \"https://lib.is/\"+identifier+\"/iiif/2/FL\"+str(new_id)+\"/full/1000,1000/0/default.jpg\"\n",
    "    \n",
    "    print(url)\n",
    "    if index==4: # remove this part, this if for testing\n",
    "        break"
   ]
  },
  {
   "cell_type": "markdown",
   "id": "ae7f8d3c-4f01-4036-a7cc-e2d19bb63247",
   "metadata": {},
   "source": [
    "### Let's download the posters using the new URLs"
   ]
  },
  {
   "cell_type": "code",
   "execution_count": 45,
   "id": "a19c932d-5f64-4f03-8f40-e5a3bc768033",
   "metadata": {},
   "outputs": [
    {
     "name": "stdout",
     "output_type": "stream",
     "text": [
      "File downloaded successfully:https://lib.is/IE4984904/iiif/2/FL4984906/full/1000,1000/0/default.jpg\n",
      "File downloaded successfully:https://lib.is/IE4984899/iiif/2/FL4984901/full/1000,1000/0/default.jpg\n",
      "File downloaded successfully:https://lib.is/IE4984880/iiif/2/FL4984882/full/1000,1000/0/default.jpg\n",
      "File downloaded successfully:https://lib.is/IE4984875/iiif/2/FL4984877/full/1000,1000/0/default.jpg\n",
      "File downloaded successfully:https://lib.is/IE4984870/iiif/2/FL4984872/full/1000,1000/0/default.jpg\n",
      "File downloaded successfully:https://lib.is/IE4984865/iiif/2/FL4984867/full/1000,1000/0/default.jpg\n",
      "File downloaded successfully:https://lib.is/IE4984850/iiif/2/FL4984852/full/1000,1000/0/default.jpg\n",
      "File downloaded successfully:https://lib.is/IE4984840/iiif/2/FL4984842/full/1000,1000/0/default.jpg\n",
      "File downloaded successfully:https://lib.is/IE4984830/iiif/2/FL4984832/full/1000,1000/0/default.jpg\n",
      "File downloaded successfully:https://lib.is/IE4984820/iiif/2/FL4984822/full/1000,1000/0/default.jpg\n",
      "File downloaded successfully:https://lib.is/IE4984815/iiif/2/FL4984817/full/1000,1000/0/default.jpg\n"
     ]
    }
   ],
   "source": [
    "for index, row in postcards_data.iterrows():\n",
    "    identifier = row['Resolver URL'].split(\"/\")[3]\n",
    "    new_id = int(identifier[2:])+2\n",
    "    url = \"https://lib.is/\"+identifier+\"/iiif/2/FL\"+str(new_id)+\"/full/1000,1000/0/default.jpg\"\n",
    "\n",
    "    response = requests.get(url)\n",
    "    file_Path = \"posters/\"+identifier + '.jpg'\n",
    "\n",
    "    if response.status_code == 200:\n",
    "        with open(file_Path, 'wb') as file:\n",
    "            file.write(response.content)\n",
    "        print('File downloaded successfully:' + url)\n",
    "    else:\n",
    "        print('Failed to download file:' + url)\n",
    "\n",
    "    if index==10: # remove this part, this if for testing\n",
    "        break"
   ]
  },
  {
   "cell_type": "markdown",
   "id": "21e78e53-9780-48d5-8397-b4365bdf5f57",
   "metadata": {},
   "source": [
    "### Let's see the result\n",
    "\n",
    "Check your posters folder: \n",
    "\n",
    "<img src=\"../../images/posters-download.png\">"
   ]
  },
  {
   "cell_type": "code",
   "execution_count": null,
   "id": "06c742ff-d7af-4d25-9f43-fc57b0db35d4",
   "metadata": {},
   "outputs": [],
   "source": []
  }
 ],
 "metadata": {
  "kernelspec": {
   "display_name": "Python 3 (ipykernel)",
   "language": "python",
   "name": "python3"
  },
  "language_info": {
   "codemirror_mode": {
    "name": "ipython",
    "version": 3
   },
   "file_extension": ".py",
   "mimetype": "text/x-python",
   "name": "python",
   "nbconvert_exporter": "python",
   "pygments_lexer": "ipython3",
   "version": "3.11.11"
  }
 },
 "nbformat": 4,
 "nbformat_minor": 5
}

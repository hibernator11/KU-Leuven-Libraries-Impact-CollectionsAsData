{
 "cells": [
  {
   "cell_type": "markdown",
   "id": "6407ba0e-6946-43f5-b023-c3bf0271a844",
   "metadata": {},
   "source": [
    "# Wartime posters\n",
    "\n",
    "The digital collection [Wartime posters](https://kuleuven.limo.libis.be/discovery/collectionDiscovery?vid=32KUL_KUL:KULeuven&collectionId=81411182030001488&lang=en) includes proclamations issued by the German General Government in Belgium during the World War I. It is published and maintained by [KU Leuven Libraries](https://bib.kuleuven.be/english).\n",
    "\n",
    "This notebook is the result of the collaboration between KU Leuven and the [University of Alicante](https://www.ua.es/), as part of the [Impact Centre of Competence in digitisation](https://www.digitisation.eu/)."
   ]
  },
  {
   "cell_type": "markdown",
   "id": "585f4195-9708-4ae5-af65-b85ac1ed844a",
   "metadata": {},
   "source": [
    "### Introduction\n",
    "In this example we are going to reuse the Linked Open Data generated"
   ]
  },
  {
   "cell_type": "code",
   "execution_count": 1,
   "id": "2d9f1103-367d-4720-b1fa-415c1467159d",
   "metadata": {},
   "outputs": [],
   "source": [
    "from rdflib import Graph "
   ]
  },
  {
   "cell_type": "code",
   "execution_count": 4,
   "id": "0e1865f9-3ed4-45fd-a6c3-4eec442fbc08",
   "metadata": {},
   "outputs": [],
   "source": [
    "input_file = \"../transformation/dataset_wartime_posters.ttl\"\n",
    "g = Graph().parse(input_file)"
   ]
  },
  {
   "cell_type": "markdown",
   "id": "4c2b6de4-971d-46c6-8485-f2886d8d776a",
   "metadata": {},
   "source": [
    "Let's check the number of classes"
   ]
  },
  {
   "cell_type": "code",
   "execution_count": 5,
   "id": "c6710a9e-639a-43e8-a262-aff30751ac9a",
   "metadata": {},
   "outputs": [
    {
     "name": "stdout",
     "output_type": "stream",
     "text": [
      "##### Number of classes:\n",
      "3\n"
     ]
    }
   ],
   "source": [
    "print('##### Number of classes:')\n",
    "\n",
    "# Query the data in g using SPARQL\n",
    "q = \"\"\"\n",
    "    SELECT (count(distinct ?class) as ?classes)\n",
    "    WHERE {\n",
    "        ?s a ?class .\n",
    "    }\n",
    "\"\"\"\n",
    "\n",
    "# Apply the query to the graph and iterate through results\n",
    "for r in g.query(q):\n",
    "    print(r[\"classes\"])"
   ]
  },
  {
   "cell_type": "markdown",
   "id": "0b30500c-24dd-4ea8-8ce4-560833340604",
   "metadata": {},
   "source": [
    "Let's check the classes used to describe the content"
   ]
  },
  {
   "cell_type": "code",
   "execution_count": 6,
   "id": "5135e5fb-e52a-429e-a925-3f2216498743",
   "metadata": {},
   "outputs": [
    {
     "name": "stdout",
     "output_type": "stream",
     "text": [
      "##### Classes:\n",
      "https://schema.org/CreativeWork\n",
      "https://schema.org/Place\n",
      "https://schema.org/Dataset\n"
     ]
    }
   ],
   "source": [
    "print('##### Classes:')\n",
    "\n",
    "# Query the data in g using SPARQL\n",
    "q = \"\"\"\n",
    "    SELECT distinct ?class\n",
    "    WHERE {\n",
    "        ?s a ?class .\n",
    "    }\n",
    "\"\"\"\n",
    "\n",
    "# Apply the query to the graph and iterate through results\n",
    "for r in g.query(q):\n",
    "    print(r[\"class\"])"
   ]
  },
  {
   "cell_type": "markdown",
   "id": "364ff86a-ea7d-4962-9525-67e53803fe33",
   "metadata": {},
   "source": [
    "Let's check the number of properties"
   ]
  },
  {
   "cell_type": "code",
   "execution_count": 7,
   "id": "2381a228-5f91-46f4-b1de-ca5b3fa2a66b",
   "metadata": {},
   "outputs": [
    {
     "name": "stdout",
     "output_type": "stream",
     "text": [
      "##### Number of properties:\n",
      "14\n"
     ]
    }
   ],
   "source": [
    " print('##### Number of properties:')\n",
    "\n",
    "# Query the data in g using SPARQL\n",
    "q = \"\"\"\n",
    "    SELECT (count(distinct ?prop) as ?properties)\n",
    "    WHERE {\n",
    "        ?s ?prop ?o .\n",
    "    }\n",
    "\"\"\"\n",
    "\n",
    "# Apply the query to the graph and iterate through results\n",
    "for r in g.query(q):\n",
    "    print(r[\"properties\"])"
   ]
  },
  {
   "cell_type": "code",
   "execution_count": 8,
   "id": "b28954aa-2034-432d-88fd-97e2717f94b8",
   "metadata": {},
   "outputs": [
    {
     "name": "stdout",
     "output_type": "stream",
     "text": [
      "##### Properties:\n",
      "https://schema.org/sourceOrganization\n",
      "https://schema.org/identifier\n",
      "https://schema.org/url\n",
      "http://www.w3.org/1999/02/22-rdf-syntax-ns#type\n",
      "https://schema.org/name\n",
      "https://schema.org/datePublished\n",
      "https://schema.org/author\n",
      "https://schema.org/isPartOf\n",
      "https://schema.org/spatial\n",
      "http://www.w3.org/2002/07/owl#sameAs\n",
      "https://schema.org/description\n",
      "https://schema.org/dateCreated\n",
      "https://schema.org/license\n",
      "http://purl.org/dc/elements/1.1/title\n"
     ]
    }
   ],
   "source": [
    "print('##### Properties:')\n",
    "\n",
    "# Query the data in g using SPARQL\n",
    "q = \"\"\"\n",
    "    SELECT distinct ?prop\n",
    "    WHERE {\n",
    "        ?s ?prop ?o .\n",
    "    }\n",
    "\"\"\"\n",
    "\n",
    "# Apply the query to the graph and iterate through results\n",
    "for r in g.query(q):\n",
    "    print(r[\"prop\"])"
   ]
  },
  {
   "cell_type": "markdown",
   "id": "14f71b82-7436-4a72-b871-167ae0dd320a",
   "metadata": {},
   "source": [
    "Let's check the owl:sameAs properties used to entich the content"
   ]
  },
  {
   "cell_type": "code",
   "execution_count": 9,
   "id": "74f9e680-cb98-4716-8212-20364b4025ae",
   "metadata": {},
   "outputs": [
    {
     "name": "stdout",
     "output_type": "stream",
     "text": [
      "##### Number of owl:sameAs properties:\n",
      "3\n"
     ]
    }
   ],
   "source": [
    "print('##### Number of owl:sameAs properties:')\n",
    "    \n",
    "# Query the data in g using SPARQL\n",
    "q = \"\"\"\n",
    "    SELECT (count(distinct ?sameAs) as ?total)\n",
    "    WHERE {\n",
    "        ?p owl:sameAs ?sameAs .\n",
    "    }\n",
    "\"\"\"\n",
    "\n",
    "# Apply the query to the graph and iterate through results\n",
    "for r in g.query(q):\n",
    "    print(r[\"total\"])"
   ]
  },
  {
   "cell_type": "markdown",
   "id": "aacae208-d1df-4e71-9cb3-dd3d4ac1468a",
   "metadata": {},
   "source": [
    "We can also check the total number of triples"
   ]
  },
  {
   "cell_type": "code",
   "execution_count": 10,
   "id": "7aedb2b1-f467-47e5-a42d-65335eb17eb9",
   "metadata": {},
   "outputs": [
    {
     "name": "stdout",
     "output_type": "stream",
     "text": [
      "##### Number of triples:\n",
      "1391\n"
     ]
    }
   ],
   "source": [
    "print('##### Number of triples:')\n",
    "    \n",
    "# Query the data in g using SPARQL\n",
    "q = \"\"\"\n",
    "    SELECT (COUNT(*) as ?triples) \n",
    "    WHERE { ?s ?p ?o } \n",
    "\"\"\"\n",
    "\n",
    "# Apply the query to the graph and iterate through results\n",
    "for r in g.query(q):\n",
    "    print(r[\"triples\"])"
   ]
  },
  {
   "cell_type": "markdown",
   "id": "32950ceb-dc79-45ba-bc2e-98b368dcedd1",
   "metadata": {},
   "source": [
    "Or the number of resources with particular types such as creative works"
   ]
  },
  {
   "cell_type": "code",
   "execution_count": 11,
   "id": "84fe29b9-272d-4d46-b573-a9c0bddb5648",
   "metadata": {},
   "outputs": [
    {
     "name": "stdout",
     "output_type": "stream",
     "text": [
      "##### Number of creative works:\n",
      "171\n"
     ]
    }
   ],
   "source": [
    "print('##### Number of creative works:')\n",
    "    \n",
    "# Query the data in g using SPARQL\n",
    "q = \"\"\"\n",
    "    SELECT (COUNT(distinct ?s) as ?poster) \n",
    "    WHERE { ?s a schema:CreativeWork} \n",
    "\"\"\"\n",
    "\n",
    "# Apply the query to the graph and iterate through results\n",
    "for r in g.query(q):\n",
    "    print(r[\"poster\"])"
   ]
  }
 ],
 "metadata": {
  "kernelspec": {
   "display_name": "Python 3 (ipykernel)",
   "language": "python",
   "name": "python3"
  },
  "language_info": {
   "codemirror_mode": {
    "name": "ipython",
    "version": 3
   },
   "file_extension": ".py",
   "mimetype": "text/x-python",
   "name": "python",
   "nbconvert_exporter": "python",
   "pygments_lexer": "ipython3",
   "version": "3.11.11"
  }
 },
 "nbformat": 4,
 "nbformat_minor": 5
}

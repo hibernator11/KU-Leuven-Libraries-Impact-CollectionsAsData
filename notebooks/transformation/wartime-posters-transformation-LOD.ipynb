{
 "cells": [
  {
   "cell_type": "markdown",
   "id": "27379150-0622-48a9-b694-5376bd04fc47",
   "metadata": {},
   "source": [
    "# Wartime posters\n",
    "\n",
    "The digital collection [Wartime posters](https://kuleuven.limo.libis.be/discovery/collectionDiscovery?vid=32KUL_KUL:KULeuven&collectionId=81411182030001488&lang=en) includes proclamations issued by the German General Government in Belgium during the World War I. It is published and maintained by [KU Leuven Libraries](https://bib.kuleuven.be/english).\n",
    "\n",
    "This notebook is the result of the collaboration between KU Leuven and the [University of Alicante](https://www.ua.es/), as part of the [Impact Centre of Competence in digitisation](https://www.digitisation.eu/)."
   ]
  },
  {
   "cell_type": "markdown",
   "id": "649c3181-64fd-418a-ba1e-11adb00aa12e",
   "metadata": {},
   "source": [
    "### Introduction\n",
    "In this example we are going to transform the original metadata into Linked Open Data"
   ]
  },
  {
   "cell_type": "markdown",
   "id": "c3c56651-cd23-4d02-81ec-5873547a2fc8",
   "metadata": {},
   "source": [
    "### Getting started\n",
    "\n",
    "The first thing that we need to do is importing all the libraries (Python packages) that we will need to analyse the data. Note that we are using as data a CSV file, consisting of rows and columns. In order to work with CSV files, [pandas](https://pandas.pydata.org/) is a popular Python package that or is used for working with data sets. It has functions for analyzing, cleaning, exploring, and manipulating data."
   ]
  },
  {
   "cell_type": "code",
   "execution_count": 31,
   "id": "ffb18ee4-2087-440a-b608-37f7df43638c",
   "metadata": {},
   "outputs": [],
   "source": [
    "from rdflib import Graph, URIRef, Literal, Namespace\n",
    "from rdflib.namespace import FOAF, RDF, DCTERMS, VOID, DC, SKOS, OWL\n",
    "import pandas as pd\n",
    "import datetime"
   ]
  },
  {
   "cell_type": "markdown",
   "id": "e7eb6dfe-954a-456a-bcf0-182a27681140",
   "metadata": {},
   "source": [
    "### Transformation to LOD\n",
    "\n",
    "Note that the domain URL should be updated with a proper domain"
   ]
  },
  {
   "cell_type": "code",
   "execution_count": 32,
   "id": "68cd85bc-c853-40c2-b91c-e5e2b6f588bd",
   "metadata": {},
   "outputs": [],
   "source": [
    "domain = 'https://example.org/'"
   ]
  },
  {
   "cell_type": "markdown",
   "id": "06537b35-edcd-474e-b8fd-fd2d50280410",
   "metadata": {},
   "source": [
    "First, we instantiate all the namespaces that we will use when defining the RDF data"
   ]
  },
  {
   "cell_type": "code",
   "execution_count": 33,
   "id": "772f2135-2fa9-4cf8-8281-cbe391c60438",
   "metadata": {},
   "outputs": [],
   "source": [
    "g = Graph()\n",
    "g.bind(\"foaf\", FOAF)\n",
    "g.bind(\"rdf\", RDF)\n",
    "g.bind(\"dcterms\", DCTERMS)\n",
    "g.bind(\"dc\", DC)\n",
    "g.bind(\"void\", VOID)\n",
    "g.bind(\"skos\", SKOS)\n",
    "g.bind(\"owl\", OWL)\n",
    "\n",
    "schema = Namespace(\"https://schema.org/\")\n",
    "g.bind(\"schema\", schema)\n",
    "\n",
    "viaf = Namespace(\"https://viaf.org/viaf/\")\n",
    "g.bind(\"viaf\", viaf)\n",
    "\n",
    "wd = Namespace(\"http://www.wikidata.org/entity/\")\n",
    "g.bind(\"wd\", wd)"
   ]
  },
  {
   "cell_type": "markdown",
   "id": "eede1d1b-41d4-4db7-a801-59943e8f1b8e",
   "metadata": {},
   "source": [
    "We define the resource for the project Wartime posters dataset"
   ]
  },
  {
   "cell_type": "code",
   "execution_count": 34,
   "id": "4f4b6732-72fa-451c-80dd-a9c5ddcf5210",
   "metadata": {},
   "outputs": [
    {
     "data": {
      "text/plain": [
       "<Graph identifier=N517a7f115eba4d248337c5a53d494a07 (<class 'rdflib.graph.Graph'>)>"
      ]
     },
     "execution_count": 34,
     "metadata": {},
     "output_type": "execute_result"
    }
   ],
   "source": [
    "dataset = URIRef(domain + \"dataset/wartime-posters\")\n",
    "\n",
    "g.add((dataset, RDF.type, schema.Dataset))\n",
    "g.add((dataset, schema.url, URIRef(\"https://kuleuven.limo.libis.be/\")))\n",
    "g.add((dataset, schema.description, Literal(\"Wartime posters with proclamations issued by the German General Government in Belgium during the World War I.\")))\n",
    "g.add((dataset, schema.name, Literal(\"Wartime posters\")))\n",
    "g.add((dataset, DC.title, Literal(\"Wartime posters\")))\n",
    "g.add((dataset, schema.license, URIRef('https://creativecommons.org/publicdomain/zero/1.0/')))\n",
    "\n",
    "now = datetime.datetime.now()\n",
    "g.add((dataset, schema.dateCreated, Literal(str(now)[:10])))"
   ]
  },
  {
   "cell_type": "markdown",
   "id": "e6382a5b-b63d-4efd-a122-c21402b9ba60",
   "metadata": {},
   "source": [
    "Let's now loop the CSV file to describe the records"
   ]
  },
  {
   "cell_type": "code",
   "execution_count": 35,
   "id": "38e2a5da-fbd7-4a54-935e-571e6056f0ad",
   "metadata": {},
   "outputs": [
    {
     "name": "stdout",
     "output_type": "stream",
     "text": [
      "               MMS ID         Language  \\\n",
      "0    9992133510701488  dut ; fre ; ger   \n",
      "1    9992133511201488  dut ; fre ; ger   \n",
      "2    9992133512001488  dut ; fre ; ger   \n",
      "3    9992133513201488  dut ; fre ; ger   \n",
      "4    9992133513301488  dut ; fre ; ger   \n",
      "..                ...              ...   \n",
      "166  9992136980201488              dut   \n",
      "167  9992137078901488              dut   \n",
      "168  9992137079301488              dut   \n",
      "169  9992137081401488              dut   \n",
      "170  9992137081601488              dut   \n",
      "\n",
      "                                            Main title  \\\n",
      "0    Brussel. 13.06.1915. Mededeelingen van het Dui...   \n",
      "1    Brussel. 12.06.1915. Mededeelingen [02] van he...   \n",
      "2    Brussel. 11.06.1915. Mededeelingen [02] van he...   \n",
      "3    Brussel. 11.06.1915. Mededeelingen [01] van he...   \n",
      "4    Brussel. 04.06.1915. Mededeelingen van het Dui...   \n",
      "..                                                 ...   \n",
      "166  E. H. O. 01.12.1916. Mob. Etappen-Kommandantuu...   \n",
      "167  Gent. 30.08.1916. Mobime Etappen-Kommandantur....   \n",
      "168  Gent. 05.03.1917. Mob. Etappenkommandantur Gen...   \n",
      "169  Gent. 28.01.1917. Mob. Etappen-Kommandantuur 2...   \n",
      "170  Gent. 14.12.1916. Mob. Etappen-Kommandantuur 2...   \n",
      "\n",
      "                                         Variant title  \\\n",
      "0    Bruxelles. 13.06.1915. Nouvelles publiées par ...   \n",
      "1    Bruxelles. 12.06.1915. Nouvelles publiées par ...   \n",
      "2    Bruxelles. 11.06.1915. Nouvelles publiées par ...   \n",
      "3    Bruxelles. 11.06.1915. Nouvelles publiées par ...   \n",
      "4    Bruxelles. 04.06.1915. Nouvelles publiées par ...   \n",
      "..                                                 ...   \n",
      "166                                                NaN   \n",
      "167                                                NaN   \n",
      "168                                                NaN   \n",
      "169                                                NaN   \n",
      "170                                                NaN   \n",
      "\n",
      "      Place of publication/printing  \\\n",
      "0    [Plaats van druk niet vermeld]   \n",
      "1    [Plaats van druk niet vermeld]   \n",
      "2    [Plaats van druk niet vermeld]   \n",
      "3    [Plaats van druk niet vermeld]   \n",
      "4    [Plaats van druk niet vermeld]   \n",
      "..                              ...   \n",
      "166  [Plaats van druk niet vermeld]   \n",
      "167  [Plaats van druk niet vermeld]   \n",
      "168  [Plaats van druk niet vermeld]   \n",
      "169  [Plaats van druk niet vermeld]   \n",
      "170  [Plaats van druk niet vermeld]   \n",
      "\n",
      "                                 Publisher/printer  Date  Dimensions  \\\n",
      "0                           [Drukker niet vermeld]  1915  87 x 66 cm   \n",
      "1                           [Drukker niet vermeld]  1915  87 x 66 cm   \n",
      "2                           [Drukker niet vermeld]  1915  87 x 66 cm   \n",
      "3                           [Drukker niet vermeld]  1915  87 x 66 cm   \n",
      "4                           [Drukker niet vermeld]  1915  87 x 66 cm   \n",
      "..                                             ...   ...         ...   \n",
      "166  Drukk. Sint-Antonius, Jos. Dooreman-Volckaert  1916  28 x 37 cm   \n",
      "167    Drukk. St-Antonius, Jos. Dooreman-Volckaert  1916  73 x 55 cm   \n",
      "168    Drukk. St-Antonius, Jos. Dooreman-Volckaert  1917  62 x 43 cm   \n",
      "169  Drukk. Sint-Antonius, Jos. Dooreman-Volckaert  1917  48 x 34 cm   \n",
      "170  Drukk. Sint-Antonius, Jos. Dooreman-Volckaert  1916  27 x 37 cm   \n",
      "\n",
      "    Material type                                       Series title  ...  \\\n",
      "0          Poster                                                NaN  ...   \n",
      "1          Poster                                                NaN  ...   \n",
      "2          Poster                                                NaN  ...   \n",
      "3          Poster                                                NaN  ...   \n",
      "4          Poster                                                NaN  ...   \n",
      "..            ...                                                ...  ...   \n",
      "166        Poster  Verordeningen, bekendmakingen, e.d. uitgevaard...  ...   \n",
      "167        Poster  Verordeningen, bekendmakingen, e.d. uitgevaard...  ...   \n",
      "168        Poster  Verordeningen, bekendmakingen, e.d. uitgevaard...  ...   \n",
      "169        Poster  Verordeningen, bekendmakingen, e.d. uitgevaard...  ...   \n",
      "170        Poster  Verordeningen, bekendmakingen, e.d. uitgevaard...  ...   \n",
      "\n",
      "    Copyright status of digital object         Terms of use  \\\n",
      "0               available as open data  gebruiksvoorwaarden   \n",
      "1               available as open data  gebruiksvoorwaarden   \n",
      "2               available as open data  gebruiksvoorwaarden   \n",
      "3               available as open data  gebruiksvoorwaarden   \n",
      "4               available as open data  gebruiksvoorwaarden   \n",
      "..                                 ...                  ...   \n",
      "166             available as open data  gebruiksvoorwaarden   \n",
      "167             available as open data  gebruiksvoorwaarden   \n",
      "168             available as open data  gebruiksvoorwaarden   \n",
      "169             available as open data  gebruiksvoorwaarden   \n",
      "170             available as open data  gebruiksvoorwaarden   \n",
      "\n",
      "                                     Local group title Author (main entry)  \\\n",
      "0    KU Leuven. Centrale Bibliotheek. Affichecollec...                 NaN   \n",
      "1    KU Leuven. Centrale Bibliotheek. Affichecollec...                 NaN   \n",
      "2    KU Leuven. Centrale Bibliotheek. Affichecollec...                 NaN   \n",
      "3    KU Leuven. Centrale Bibliotheek. Affichecollec...                 NaN   \n",
      "4    KU Leuven. Centrale Bibliotheek. Affichecollec...                 NaN   \n",
      "..                                                 ...                 ...   \n",
      "166  KU Leuven. Centrale Bibliotheek. Affichecollec...                 NaN   \n",
      "167  KU Leuven. Centrale Bibliotheek. Affichecollec...                 NaN   \n",
      "168  KU Leuven. Centrale Bibliotheek. Affichecollec...                 NaN   \n",
      "169  KU Leuven. Centrale Bibliotheek. Affichecollec...                 NaN   \n",
      "170  KU Leuven. Centrale Bibliotheek. Affichecollec...                 NaN   \n",
      "\n",
      "       Author (added entry)  \\\n",
      "0                       NaN   \n",
      "1                       NaN   \n",
      "2                       NaN   \n",
      "3                       NaN   \n",
      "4                       NaN   \n",
      "..                      ...   \n",
      "166  Wettstein, Kurt signer   \n",
      "167  von Wick, Georg signer   \n",
      "168                     NaN   \n",
      "169                     NaN   \n",
      "170                     NaN   \n",
      "\n",
      "                                  Author (corporation) Language2  \\\n",
      "0    Kaiserliches Deutsches Generalgouvernement Bel...       dut   \n",
      "1    Kaiserliches Deutsches Generalgouvernement Bel...       dut   \n",
      "2    Kaiserliches Deutsches Generalgouvernement Bel...       dut   \n",
      "3    Kaiserliches Deutsches Generalgouvernement Bel...       dut   \n",
      "4    Kaiserliches Deutsches Generalgouvernement Bel...       dut   \n",
      "..                                                 ...       ...   \n",
      "166                                                NaN       dut   \n",
      "167                                                NaN       dut   \n",
      "168                                                NaN       dut   \n",
      "169                                                NaN       dut   \n",
      "170                                                NaN       dut   \n",
      "\n",
      "    Country of publication                                       Resolver URL  \\\n",
      "0                       xx  http://resolver.libis.be/IE4984904/representation   \n",
      "1                       xx  http://resolver.libis.be/IE4984899/representation   \n",
      "2                       xx  http://resolver.libis.be/IE4984880/representation   \n",
      "3                       xx  http://resolver.libis.be/IE4984875/representation   \n",
      "4                       xx  http://resolver.libis.be/IE4984870/representation   \n",
      "..                     ...                                                ...   \n",
      "166                     xx  http://resolver.libis.be/IE4985512/representation   \n",
      "167                     xx  http://resolver.libis.be/IE4985417/representation   \n",
      "168                     xx  http://resolver.libis.be/IE4985666/representation   \n",
      "169                     xx  http://resolver.libis.be/IE4985617/representation   \n",
      "170                     xx  http://resolver.libis.be/IE4985537/representation   \n",
      "\n",
      "                            Label (Library Call numer)  \n",
      "0          KU Leuven Libraries BIBC BRES Gm_1915_06_13  \n",
      "1      KU Leuven Libraries BIBC BRES Gm_1915_06_12 (2)  \n",
      "2      KU Leuven Libraries BIBC BRES Gm_1915_06_11 (2)  \n",
      "3      KU Leuven Libraries BIBC BRES Gm_1915_06_11 (1)  \n",
      "4          KU Leuven Libraries BIBC BRES Gm_1915_06_04  \n",
      "..                                                 ...  \n",
      "166        KU Leuven Libraries BIBC BRES Ev_1916_12_01  \n",
      "167  KU Leuven Libraries BIBC BRES Ev_1916_08_12/08...  \n",
      "168        KU Leuven Libraries BIBC BRES Ev_1917_03_05  \n",
      "169    KU Leuven Libraries BIBC BRES Ev_1917_01_28 (1)  \n",
      "170        KU Leuven Libraries BIBC BRES Ev_1916_12_14  \n",
      "\n",
      "[171 rows x 23 columns]\n"
     ]
    }
   ],
   "source": [
    "posters_data = pd.read_csv(\"../../../20250506_CaD_jnbworkshop/Metadata-exports/Wartime_posters/20230301_Wartime_posters.csv\", skiprows=[1])\n",
    "print(posters_data)"
   ]
  },
  {
   "cell_type": "markdown",
   "id": "404b3dd6-b1a7-436c-a8a6-4e878ed8090c",
   "metadata": {},
   "source": [
    "Let's now transform the data"
   ]
  },
  {
   "cell_type": "code",
   "execution_count": 36,
   "id": "1d3c55a6-eeb2-4ad3-bd3e-093538389641",
   "metadata": {},
   "outputs": [],
   "source": [
    "for index, row in posters_data.iterrows():\n",
    "    identifier = row['Resolver URL'].split(\"/\")[3]\n",
    "  \n",
    "    classtype = 'https://schema.org/CreativeWork'\n",
    "        \n",
    "    record = URIRef(domain + \"record/\" + identifier.strip())\n",
    "    g.add((record, RDF.type, URIRef(classtype)))\n",
    "    g.add((record, schema.sourceOrganization, Literal(\"KU Leuven\")))\n",
    "    g.add((record, schema.isPartOf, dataset))\n",
    "    g.add((record, schema.identifier, Literal(identifier)))\n",
    "    g.add((record, schema.datePublished, Literal(row['Date'])))\n",
    "    g.add((record, schema.name, Literal(row['Main title']))) # authors could be expanded\n",
    "    g.add((record, schema.url, URIRef(row[\"Resolver URL\"])))\n",
    "    g.add((record, schema.author, Literal(row[\"Author (added entry)\"])))\n",
    "\n",
    "    if row[\"Place of publication/printing\"] != \"[Plaats van druk niet vermeld]\":\n",
    "        placeId = \"\"\n",
    "        if row[\"Place of publication/printing\"] == \"Brussel\":\n",
    "            placeId = \"Q111901161\"\n",
    "        elif row[\"Place of publication/printing\"] == \"Antwerpen\":\n",
    "            placeId = \"Q12892\"\n",
    "        elif row[\"Place of publication/printing\"] == \"Gent\":\n",
    "            placeId = \"Q1296\"\n",
    "        \n",
    "        place = URIRef(domain + \"place/\" + placeId)\n",
    "        g.add((place, RDF.type, URIRef('https://schema.org/Place')))\n",
    "        g.add((place, OWL.sameAs, URIRef('http://www.wikidata.org/entity/' + placeId)))\n",
    "        g.add((place, schema.name, Literal(row[\"Place of publication/printing\"])))\n",
    "        g.add((record, schema.spatial, place))"
   ]
  },
  {
   "cell_type": "markdown",
   "id": "d4d7551c-ab32-4043-a0b7-a169479ac1a4",
   "metadata": {},
   "source": [
    "Let's store the data generated"
   ]
  },
  {
   "cell_type": "code",
   "execution_count": 37,
   "id": "02f36b6d-e3e5-4a20-8b40-f90636d6877b",
   "metadata": {},
   "outputs": [
    {
     "data": {
      "text/plain": [
       "<Graph identifier=N517a7f115eba4d248337c5a53d494a07 (<class 'rdflib.graph.Graph'>)>"
      ]
     },
     "execution_count": 37,
     "metadata": {},
     "output_type": "execute_result"
    }
   ],
   "source": [
    "g.serialize(destination=\"dataset_wartime_posters.ttl\") "
   ]
  },
  {
   "cell_type": "markdown",
   "id": "02040298-f215-450d-9131-36f74a846a5b",
   "metadata": {},
   "source": [
    "If we open the file dataset_wartime_posters.ttl, we will see something like:\n",
    "\n",
    "```\n",
    "@prefix dc: <http://purl.org/dc/elements/1.1/> .\n",
    "@prefix owl: <http://www.w3.org/2002/07/owl#> .\n",
    "@prefix schema: <https://schema.org/> .\n",
    "@prefix wd: <http://www.wikidata.org/entity/> .\n",
    "@prefix xsd: <http://www.w3.org/2001/XMLSchema#> .\n",
    "\n",
    "<https://example.org/record/IE4984785> a schema:CreativeWork ;\n",
    "    schema:author \"NaN\"^^xsd:double ;\n",
    "    schema:datePublished \"1915\" ;\n",
    "    schema:identifier \"IE4984785\" ;\n",
    "    schema:isPartOf <https://example.org/dataset/wartime-posters> ;\n",
    "    schema:name \"Brussel. ??.05.1915. Mededeelingen van het Duitsche Generaal-Gouvernement [ondertekend door] Het Generaal-Gouvernement in België\" ;\n",
    "    schema:sourceOrganization \"KU Leuven\" ;\n",
    "    schema:url <http://resolver.libis.be/IE4984785/representation> .\n",
    "\n",
    "<https://example.org/record/IE4984790> a schema:CreativeWork ;\n",
    "    schema:author \"NaN\"^^xsd:double ;\n",
    "    schema:datePublished \"1915\" ;\n",
    "    schema:identifier \"IE4984790\" ;\n",
    "    schema:isPartOf <https://example.org/dataset/wartime-posters> ;\n",
    "    schema:name \"Brussel. 01.05.1915. Mededeelingen van het Duitsche Generaal-Gouvernement [ondertekend door] Het Generaal-Gouvernement in België\" ;\n",
    "    schema:sourceOrganization \"KU Leuven\" ;\n",
    "    schema:url <http://resolver.libis.be/IE4984790/representation> .\n",
    "\n",
    "...................\n",
    "\n",
    "<https://example.org/place/Q1296> a schema:Place ;\n",
    "    owl:sameAs wd:Q1296 ;\n",
    "    schema:name \"Gent\" .\n",
    "\n",
    "<https://example.org/place/Q111901161> a schema:Place ;\n",
    "    owl:sameAs wd:Q111901161 ;\n",
    "    schema:name \"Brussel\" .\n",
    "\n",
    "<https://example.org/place/Q12892> a schema:Place ;\n",
    "    owl:sameAs wd:Q12892 ;\n",
    "    schema:name \"Antwerpen\" .\n",
    "\n",
    "<https://example.org/dataset/wartime-posters> a schema:Dataset ;\n",
    "    dc:title \"Wartime posters\" ;\n",
    "    schema:dateCreated \"2025-05-02\" ;\n",
    "    schema:description \"Wartime posters with proclamations issued by the German General Government in Belgium during the World War I.\" ;\n",
    "    schema:license <https://creativecommons.org/publicdomain/zero/1.0/> ;\n",
    "    schema:name \"Wartime posters\" ;\n",
    "    schema:url <https://kuleuven.limo.libis.be/> .\n",
    "```"
   ]
  }
 ],
 "metadata": {
  "kernelspec": {
   "display_name": "Python 3 (ipykernel)",
   "language": "python",
   "name": "python3"
  },
  "language_info": {
   "codemirror_mode": {
    "name": "ipython",
    "version": 3
   },
   "file_extension": ".py",
   "mimetype": "text/x-python",
   "name": "python",
   "nbconvert_exporter": "python",
   "pygments_lexer": "ipython3",
   "version": "3.11.11"
  }
 },
 "nbformat": 4,
 "nbformat_minor": 5
}
